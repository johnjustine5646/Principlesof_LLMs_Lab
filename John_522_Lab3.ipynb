{
  "nbformat": 4,
  "nbformat_minor": 0,
  "metadata": {
    "colab": {
      "provenance": [],
      "authorship_tag": "ABX9TyOxh1tARAo6rvanTmfLyvns",
      "include_colab_link": true
    },
    "kernelspec": {
      "name": "python3",
      "display_name": "Python 3"
    },
    "language_info": {
      "name": "python"
    }
  },
  "cells": [
    {
      "cell_type": "markdown",
      "metadata": {
        "id": "view-in-github",
        "colab_type": "text"
      },
      "source": [
        "<a href=\"https://colab.research.google.com/github/johnjustine5646/Principlesof_LLMs_Lab/blob/main/PLLM_Lab3_2348522.ipynb\" target=\"_parent\"><img src=\"https://colab.research.google.com/assets/colab-badge.svg\" alt=\"Open In Colab\"/></a>"
      ]
    },
    {
      "cell_type": "code",
      "source": [
        "!pip install --upgrade openai\n"
      ],
      "metadata": {
        "colab": {
          "base_uri": "https://localhost:8080/"
        },
        "id": "8tjnieXUVSS0",
        "outputId": "a7f5df2c-801d-43b4-a259-e48dc0a1ca7f"
      },
      "execution_count": 22,
      "outputs": [
        {
          "output_type": "stream",
          "name": "stdout",
          "text": [
            "Requirement already satisfied: openai in /usr/local/lib/python3.10/dist-packages (1.37.0)\n",
            "Requirement already satisfied: anyio<5,>=3.5.0 in /usr/local/lib/python3.10/dist-packages (from openai) (3.7.1)\n",
            "Requirement already satisfied: distro<2,>=1.7.0 in /usr/lib/python3/dist-packages (from openai) (1.7.0)\n",
            "Requirement already satisfied: httpx<1,>=0.23.0 in /usr/local/lib/python3.10/dist-packages (from openai) (0.27.0)\n",
            "Requirement already satisfied: pydantic<3,>=1.9.0 in /usr/local/lib/python3.10/dist-packages (from openai) (2.8.2)\n",
            "Requirement already satisfied: sniffio in /usr/local/lib/python3.10/dist-packages (from openai) (1.3.1)\n",
            "Requirement already satisfied: tqdm>4 in /usr/local/lib/python3.10/dist-packages (from openai) (4.66.4)\n",
            "Requirement already satisfied: typing-extensions<5,>=4.7 in /usr/local/lib/python3.10/dist-packages (from openai) (4.12.2)\n",
            "Requirement already satisfied: idna>=2.8 in /usr/local/lib/python3.10/dist-packages (from anyio<5,>=3.5.0->openai) (3.7)\n",
            "Requirement already satisfied: exceptiongroup in /usr/local/lib/python3.10/dist-packages (from anyio<5,>=3.5.0->openai) (1.2.2)\n",
            "Requirement already satisfied: certifi in /usr/local/lib/python3.10/dist-packages (from httpx<1,>=0.23.0->openai) (2024.7.4)\n",
            "Requirement already satisfied: httpcore==1.* in /usr/local/lib/python3.10/dist-packages (from httpx<1,>=0.23.0->openai) (1.0.5)\n",
            "Requirement already satisfied: h11<0.15,>=0.13 in /usr/local/lib/python3.10/dist-packages (from httpcore==1.*->httpx<1,>=0.23.0->openai) (0.14.0)\n",
            "Requirement already satisfied: annotated-types>=0.4.0 in /usr/local/lib/python3.10/dist-packages (from pydantic<3,>=1.9.0->openai) (0.7.0)\n",
            "Requirement already satisfied: pydantic-core==2.20.1 in /usr/local/lib/python3.10/dist-packages (from pydantic<3,>=1.9.0->openai) (2.20.1)\n"
          ]
        }
      ]
    },
    {
      "cell_type": "code",
      "source": [
        "!pip install langchain"
      ],
      "metadata": {
        "colab": {
          "base_uri": "https://localhost:8080/"
        },
        "id": "FUqdHGU7VSoR",
        "outputId": "c787cdf3-bd38-40d2-deae-ba4817f8aaeb"
      },
      "execution_count": 23,
      "outputs": [
        {
          "output_type": "stream",
          "name": "stdout",
          "text": [
            "Requirement already satisfied: langchain in /usr/local/lib/python3.10/dist-packages (0.2.11)\n",
            "Requirement already satisfied: PyYAML>=5.3 in /usr/local/lib/python3.10/dist-packages (from langchain) (6.0.1)\n",
            "Requirement already satisfied: SQLAlchemy<3,>=1.4 in /usr/local/lib/python3.10/dist-packages (from langchain) (2.0.31)\n",
            "Requirement already satisfied: aiohttp<4.0.0,>=3.8.3 in /usr/local/lib/python3.10/dist-packages (from langchain) (3.9.5)\n",
            "Requirement already satisfied: async-timeout<5.0.0,>=4.0.0 in /usr/local/lib/python3.10/dist-packages (from langchain) (4.0.3)\n",
            "Requirement already satisfied: langchain-core<0.3.0,>=0.2.23 in /usr/local/lib/python3.10/dist-packages (from langchain) (0.2.23)\n",
            "Requirement already satisfied: langchain-text-splitters<0.3.0,>=0.2.0 in /usr/local/lib/python3.10/dist-packages (from langchain) (0.2.2)\n",
            "Requirement already satisfied: langsmith<0.2.0,>=0.1.17 in /usr/local/lib/python3.10/dist-packages (from langchain) (0.1.93)\n",
            "Requirement already satisfied: numpy<2,>=1 in /usr/local/lib/python3.10/dist-packages (from langchain) (1.25.2)\n",
            "Requirement already satisfied: pydantic<3,>=1 in /usr/local/lib/python3.10/dist-packages (from langchain) (2.8.2)\n",
            "Requirement already satisfied: requests<3,>=2 in /usr/local/lib/python3.10/dist-packages (from langchain) (2.31.0)\n",
            "Requirement already satisfied: tenacity!=8.4.0,<9.0.0,>=8.1.0 in /usr/local/lib/python3.10/dist-packages (from langchain) (8.5.0)\n",
            "Requirement already satisfied: aiosignal>=1.1.2 in /usr/local/lib/python3.10/dist-packages (from aiohttp<4.0.0,>=3.8.3->langchain) (1.3.1)\n",
            "Requirement already satisfied: attrs>=17.3.0 in /usr/local/lib/python3.10/dist-packages (from aiohttp<4.0.0,>=3.8.3->langchain) (23.2.0)\n",
            "Requirement already satisfied: frozenlist>=1.1.1 in /usr/local/lib/python3.10/dist-packages (from aiohttp<4.0.0,>=3.8.3->langchain) (1.4.1)\n",
            "Requirement already satisfied: multidict<7.0,>=4.5 in /usr/local/lib/python3.10/dist-packages (from aiohttp<4.0.0,>=3.8.3->langchain) (6.0.5)\n",
            "Requirement already satisfied: yarl<2.0,>=1.0 in /usr/local/lib/python3.10/dist-packages (from aiohttp<4.0.0,>=3.8.3->langchain) (1.9.4)\n",
            "Requirement already satisfied: jsonpatch<2.0,>=1.33 in /usr/local/lib/python3.10/dist-packages (from langchain-core<0.3.0,>=0.2.23->langchain) (1.33)\n",
            "Requirement already satisfied: packaging<25,>=23.2 in /usr/local/lib/python3.10/dist-packages (from langchain-core<0.3.0,>=0.2.23->langchain) (24.1)\n",
            "Requirement already satisfied: orjson<4.0.0,>=3.9.14 in /usr/local/lib/python3.10/dist-packages (from langsmith<0.2.0,>=0.1.17->langchain) (3.10.6)\n",
            "Requirement already satisfied: annotated-types>=0.4.0 in /usr/local/lib/python3.10/dist-packages (from pydantic<3,>=1->langchain) (0.7.0)\n",
            "Requirement already satisfied: pydantic-core==2.20.1 in /usr/local/lib/python3.10/dist-packages (from pydantic<3,>=1->langchain) (2.20.1)\n",
            "Requirement already satisfied: typing-extensions>=4.6.1 in /usr/local/lib/python3.10/dist-packages (from pydantic<3,>=1->langchain) (4.12.2)\n",
            "Requirement already satisfied: charset-normalizer<4,>=2 in /usr/local/lib/python3.10/dist-packages (from requests<3,>=2->langchain) (3.3.2)\n",
            "Requirement already satisfied: idna<4,>=2.5 in /usr/local/lib/python3.10/dist-packages (from requests<3,>=2->langchain) (3.7)\n",
            "Requirement already satisfied: urllib3<3,>=1.21.1 in /usr/local/lib/python3.10/dist-packages (from requests<3,>=2->langchain) (2.0.7)\n",
            "Requirement already satisfied: certifi>=2017.4.17 in /usr/local/lib/python3.10/dist-packages (from requests<3,>=2->langchain) (2024.7.4)\n",
            "Requirement already satisfied: greenlet!=0.4.17 in /usr/local/lib/python3.10/dist-packages (from SQLAlchemy<3,>=1.4->langchain) (3.0.3)\n",
            "Requirement already satisfied: jsonpointer>=1.9 in /usr/local/lib/python3.10/dist-packages (from jsonpatch<2.0,>=1.33->langchain-core<0.3.0,>=0.2.23->langchain) (3.0.0)\n"
          ]
        }
      ]
    },
    {
      "cell_type": "code",
      "source": [
        "!pip install -q groq"
      ],
      "metadata": {
        "id": "Dg1jQaRjSECj"
      },
      "execution_count": 24,
      "outputs": []
    },
    {
      "cell_type": "code",
      "execution_count": 25,
      "metadata": {
        "id": "QmvAPNVHPE49"
      },
      "outputs": [],
      "source": [
        "import os\n",
        "from groq import Groq"
      ]
    },
    {
      "cell_type": "code",
      "source": [
        "from google.colab import userdata\n",
        "userdata.get('GROQ_API_KEY')"
      ],
      "metadata": {
        "colab": {
          "base_uri": "https://localhost:8080/",
          "height": 36
        },
        "id": "aqaz8COeTS4e",
        "outputId": "da92adce-776f-4f74-aeb3-c9f9d62a7339"
      },
      "execution_count": 26,
      "outputs": [
        {
          "output_type": "execute_result",
          "data": {
            "text/plain": [
              "'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'"
            ],
            "application/vnd.google.colaboratory.intrinsic+json": {
              "type": "string"
            }
          },
          "metadata": {},
          "execution_count": 26
        }
      ]
    },
    {
      "cell_type": "code",
      "source": [
        "from groq import Groq\n",
        "\n",
        "def main():\n",
        "    user_input = input(\"Please enter a topic: \")\n",
        "\n",
        "    user_message = {\n",
        "            \"role\": \"user\",\n",
        "            \"content\": f\"Tell a story about {user_input}!\"\n",
        "        }\n",
        "\n",
        "    client = Groq(api_key=userdata.get('GROQ_API_KEY'))\n",
        "    chat_completion = client.chat.completions.create(\n",
        "        messages=[user_message],\n",
        "        model='mixtral-8x7b-32768'\n",
        "    )\n",
        "    print(chat_completion.choices[0].message.content)\n",
        "\n",
        "if __name__ == \"__main__\":\n",
        "    main()\n"
      ],
      "metadata": {
        "colab": {
          "base_uri": "https://localhost:8080/"
        },
        "id": "am9jfJXZSCK5",
        "outputId": "2447534d-e069-45bd-e428-ec9743eff3f9"
      },
      "execution_count": 28,
      "outputs": [
        {
          "output_type": "stream",
          "name": "stdout",
          "text": [
            "Please enter a topic: Joey from friend's\n",
            "Sure! Here's a story about Joey, a character from the TV show \"Friends.\"\n",
            "\n",
            "Joey had always dreamed of being a successful actor, but despite his good looks and charming personality, he just couldn't seem to catch a big break. He spent most of his time going to auditions and waiting tables at a restaurant to make ends meet.\n",
            "\n",
            "One day, Joey received a call from his agent about an audition for a new movie. The role was for a tough, street-smart guy, and Joey knew he was perfect for it. He spent hours memorizing his lines and practicing his audition in front of the mirror.\n",
            "\n",
            "The day of the audition arrived, and Joey was feeling confident. He walked into the studio and greeted the casting director with a big smile.\n",
            "\n",
            "\"Good morning, I'm Joey Tribbiani. I'm here to audition for the role of Tony,\" he said, extending his hand.\n",
            "\n",
            "The casting director looked at Joey's headshot and then back at him. \"You're a little too clean-cut for the role, don't you think?\" she said.\n",
            "\n",
            "Joey was taken aback. He had spent so much time preparing for this audition, and now it seemed like it was all for nothing. But he refused to give up.\n",
            "\n",
            "\"Just give me a chance. I can play a tough guy. I promise,\" he said, his eyes pleading.\n",
            "\n",
            "The casting director sighed and handed Joey a script. \"Alright, let's see what you've got,\" she said.\n",
            "\n",
            "Joey took a deep breath and began to read. He channeled all of his frustration and disappointment into his performance, and soon he was completely immersed in the character. When he finished, the casting director was silent for a moment.\n",
            "\n",
            "\"That was... unexpected,\" she said. \"I'll have to discuss it with the director, but I think you might have a shot at this role.\"\n",
            "\n",
            "Joey couldn't believe it. He had finally landed a big break, and it was all thanks to his persistence and determination. From that day on, he never doubted himself again and went on to become a successful actor.\n",
            "\n",
            "The end.\n"
          ]
        }
      ]
    },
    {
      "cell_type": "code",
      "source": [
        "main()"
      ],
      "metadata": {
        "colab": {
          "base_uri": "https://localhost:8080/"
        },
        "id": "of-KNLwZV83q",
        "outputId": "8b35c80d-f024-47f4-e38d-029e7c927f33"
      },
      "execution_count": 29,
      "outputs": [
        {
          "output_type": "stream",
          "name": "stdout",
          "text": [
            "Please enter a topic: Jim reaper repents!\n",
            "Once upon a time, in a dark and shadowy realm, there lived a being known as Jim Reaper. Jim was one of the most feared and powerful reapers, tasked with guiding the souls of the deceased to the afterlife.\n",
            "\n",
            "For centuries, Jim had carried out his duties without hesitation or remorse. He saw himself as a necessary evil, a grim reminder of the fragility of life. But as time went on, Jim began to feel a growing sense of unease and discontent.\n",
            "\n",
            "One day, while reaping the soul of a young woman who had died peacefully in her sleep, Jim was struck by a pang of guilt. He realized that he had been blindly following orders, taking the lives of countless beings without considering the impact it had on their loved ones.\n",
            "\n",
            "Jim's thoughts continued to plague him, and he became increasingly unable to carry out his duties. He spent more and more time brooding and reflecting on his actions.\n",
            "\n",
            "Finally, unable to bear the weight of his guilt any longer, Jim decided to repent. He sought out the highest authority in the afterlife and begged for forgiveness.\n",
            "\n",
            "To Jim's surprise, the authority listened to his plea and offered him a chance at redemption. Jim was given the opportunity to return to the mortal realm and live out the rest of his days as a mortal.\n",
            "\n",
            "Jim accepted the offer and was reborn as a human. He lived a long and fulfilling life, always striving to make amends for the lives he had taken.\n",
            "\n",
            "In the end, Jim's story serves as a reminder that it's never too late to change and that every action has consequences. May his story inspire us all to be mindful and compassionate in our actions.\n"
          ]
        }
      ]
    },
    {
      "cell_type": "code",
      "source": [
        "main()"
      ],
      "metadata": {
        "colab": {
          "base_uri": "https://localhost:8080/"
        },
        "id": "9gcwFVjLTQCm",
        "outputId": "ebd5d7bb-e68d-40d4-b197-0377bcbe8397"
      },
      "execution_count": 30,
      "outputs": [
        {
          "output_type": "stream",
          "name": "stdout",
          "text": [
            "Please enter a topic: success story of ratan tata since childhood\n",
            "Ratan Tata is a highly respected and successful businessman from India. His story is one of determination, hard work, and vision.\n",
            "\n",
            "Ratan Tata was born on December 28, 1937, in Surat, Gujarat, India. He was the youngest of three children in a Parsi family. His father, Naval Tata, was a prominent industrialist, and his mother, Sooni Tata, was a devoted homemaker.\n",
            "\n",
            "As a child, Ratan was introverted and reserved. He preferred to spend his time tinkering with machines and building things rather than socializing with his peers. Despite his shy nature, Ratan was a bright and curious student. He excelled in his studies and showed a strong interest in math and science.\n",
            "\n",
            "After completing his schooling, Ratan went on to study architecture at the prestigious Cornell University in the United States. However, he returned to India midway through his studies due to the sudden death of his grandmother.\n",
            "\n",
            "After returning to India, Ratan joined the Tata Group, the conglomerate founded by his great-grandfather, Jamsetji Tata. He started at the bottom, working as a blue-collar worker on the factory floor. This hands-on experience gave him a deep understanding of the business and its challenges.\n",
            "\n",
            "Ratan Tata's big break came in 1981 when he was appointed as the chairman of Tata Industries. At the time, the Tata Group was facing stiff competition from foreign companies, and its profits were dwindling. Ratan Tata saw an opportunity to turn the company around and began implementing a series of bold and innovative strategies.\n",
            "\n",
            "One of Ratan Tata's most successful initiatives was the development of the Indica, India's first indigenously developed car. The car was a huge success, and it helped the Tata Group become a major player in the automotive industry.\n",
            "\n",
            "Ratan Tata's leadership style was characterized by his strong work ethic, his focus on innovation, and his commitment to social responsibility. He was known for his hands-on approach and his ability to connect with people at all levels of the organization.\n",
            "\n",
            "Ratan Tata's success is a testament to his vision, his determination, and his unwavering commitment to the values of the Tata Group. He has been recognized with numerous awards and accolades, including the Padma Bhushan and the Padma Vibhushan, two of India's highest civilian honors.\n",
            "\n",
            "In conclusion, Ratan Tata's success story is a remarkable tale of a child who grew up to become one of India's most respected and successful business leaders. His legacy will continue to inspire generations to come.\n"
          ]
        }
      ]
    },
    {
      "cell_type": "code",
      "source": [],
      "metadata": {
        "id": "Yr4kAkTxYAfH"
      },
      "execution_count": null,
      "outputs": []
    }
  ]
}
